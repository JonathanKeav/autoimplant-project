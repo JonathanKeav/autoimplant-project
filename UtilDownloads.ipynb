{
 "cells": [
  {
   "cell_type": "markdown",
   "metadata": {},
   "source": [
    "## Downloading the [AutoImplant challenge MICCAI dataset](https://autoimplant.grand-challenge.org/Dataset/)\n",
    "\n",
    "Traing and test sets each consist of 100 data pairs of dimensions 512x512xZ, where Z is the number of axial slices. An additional 10 defective skulls, which have distinct (and more complicated) defects (in terms of defect shape, size and position etc) from those in the training and test set are laso provided."
   ]
  },
  {
   "cell_type": "code",
   "execution_count": 10,
   "metadata": {},
   "outputs": [],
   "source": [
    "class UtilDownloads:\n",
    "#   def __init__(self, name, age):\n",
    "#     self.name = name\n",
    "#     self.age = age\n",
    "\n",
    "#   def myfunc(self):\n",
    "#     print(\"Hello my name is \" + self.name)\n",
    "\n",
    "# p1 = Person(\"John\", 36)\n",
    "# p1.myfunc()\n",
    "\n",
    "    def download_challange_scans(self, location):\n",
    "\n",
    "        # Make a directory to store the data.\n",
    "        os.makedirs(location)    \n",
    "\n",
    "        # Training Set\n",
    "        url = \"https://dl.dropboxusercontent.com/s/2v09h0vt0k3x9l3/training_set.zip?dl=0\"\n",
    "        filename = os.path.join(os.getcwd(), \"training_set.zip\")\n",
    "        keras.utils.get_file(filename, url)\n",
    "\n",
    "        # Unzip data in the newly created directory.\n",
    "        with zipfile.ZipFile(\"training_set.zip\", \"r\") as z_fp:\n",
    "            z_fp.extractall(\"./\" + location + \"/\")\n",
    "\n",
    "        # Testing Set\n",
    "        url = \"https://dl.dropboxusercontent.com/s/me3yh4azub7jbpn/test_set_for_participants.zip?dl=0\"\n",
    "        filename = os.path.join(os.getcwd(), \"test_set_for_participants.zip\")\n",
    "        keras.utils.get_file(filename, url)\n",
    "\n",
    "        # Unzip data in the newly created directory.\n",
    "        with zipfile.ZipFile(\"test_set_for_participants.zip\", \"r\") as z_fp:\n",
    "            z_fp.extractall(\"./\" + location + \"/\")\n",
    "\n",
    "        # 10 additional cases\n",
    "        url = \"https://dl.dropboxusercontent.com/s/7ijvewjw4lnjyjv/additional_test_set_for_participants.zip?dl=0\"\n",
    "        filename = os.path.join(os.getcwd(), \"additional_test_set_for_participants.zip\")\n",
    "        keras.utils.get_file(filename, url)\n",
    "\n",
    "        # Unzip data in the newly created directory.\n",
    "        with zipfile.ZipFile(\"additional_test_set_for_participants.zip\", \"r\") as z_fp:\n",
    "            z_fp.extractall(\"./\" + location + \"/\")\n",
    "            \n",
    "    def download_winning_scans(self, location):\n",
    "        stub = true"
   ]
  },
  {
   "cell_type": "code",
   "execution_count": 12,
   "metadata": {},
   "outputs": [
    {
     "name": "stdout",
     "output_type": "stream",
     "text": [
      "Util_Downloads loaded!\n"
     ]
    }
   ],
   "source": [
    "print(\"UtilDownloads loaded!\")"
   ]
  },
  {
   "cell_type": "code",
   "execution_count": null,
   "metadata": {},
   "outputs": [],
   "source": []
  }
 ],
 "metadata": {
  "kernelspec": {
   "display_name": "Python 3",
   "language": "python",
   "name": "python3"
  },
  "language_info": {
   "codemirror_mode": {
    "name": "ipython",
    "version": 3
   },
   "file_extension": ".py",
   "mimetype": "text/x-python",
   "name": "python",
   "nbconvert_exporter": "python",
   "pygments_lexer": "ipython3",
   "version": "3.6.7"
  }
 },
 "nbformat": 4,
 "nbformat_minor": 4
}
