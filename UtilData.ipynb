{
 "cells": [
  {
   "cell_type": "code",
   "execution_count": null,
   "metadata": {},
   "outputs": [],
   "source": [
    "class UtilData:\n",
    "        \n",
    "    def load_scans(self, location, process_scan_fn):\n",
    "        scan_paths = [\n",
    "            os.path.join(os.getcwd(), location, x)\n",
    "            for x in os.listdir(location)\n",
    "        ]\n",
    "        \n",
    "        scans = np.array([process_scan_fn(path) for path in scan_paths])\n",
    "\n",
    "        return scans\n",
    "    \n",
    "    def train_test_split(self, train_size, normal_scans, abnormal_scans):\n",
    "        # split\n",
    "        x_train = abnormal_scans[:train_size]\n",
    "        y_train = normal_scans[:train_size].astype(\"float32\")\n",
    "        x_val = abnormal_scans[train_size:]\n",
    "        y_val = normal_scans[train_size:].astype(\"float32\")\n",
    "\n",
    "        return x_train, y_train, x_val, y_val\n",
    "        \n",
    "#     def load_training_data():\n",
    "#         # Folder \"CT-0\" consist of CT scans having normal lung tissue,\n",
    "#         # no CT-signs of viral pneumonia.\n",
    "#         normal_scan_paths = [\n",
    "#             os.path.join(os.getcwd(), \"TrainingData/training_set/complete_skull\", x)\n",
    "#             for x in os.listdir(\"TrainingData/training_set/complete_skull\")\n",
    "#         ]\n",
    "#         # Folder \"CT-23\" consist of CT scans having several ground-glass opacifications,\n",
    "#         # involvement of lung parenchyma.\n",
    "#         abnormal_scan_paths = [\n",
    "#             os.path.join(os.getcwd(), \"TrainingData/training_set/defective_skull\", x)\n",
    "#             for x in os.listdir(\"TrainingData/training_set/defective_skull\")\n",
    "#         ]\n",
    "\n",
    "#         return normal_scan_paths, abnormal_scan_paths\n",
    "\n",
    "#     def load_test_data():\n",
    "#         # Folder \"CT-0\" consist of CT scans having normal lung tissue,\n",
    "#         # no CT-signs of viral pneumonia.\n",
    "#         test_scan_paths = [\n",
    "#             os.path.join(os.getcwd(), \"TrainingData/test_set_for_participants\", x)\n",
    "#             for x in os.listdir(\"TrainingData/test_set_for_participants\")\n",
    "#         ]\n",
    "#         # Folder \"CT-23\" consist of CT scans having several ground-glass opacifications,\n",
    "#         # involvement of lung parenchyma.\n",
    "#         additional_test_scan_paths = [\n",
    "#             os.path.join(os.getcwd(), \"TrainingData/additional_test_set_for_participants\", x)\n",
    "#             for x in os.listdir(\"TrainingData/additional_test_set_for_participants\")\n",
    "#         ]\n",
    "\n",
    "#         return test_scan_paths, additional_test_scan_paths"
   ]
  },
  {
   "cell_type": "code",
   "execution_count": null,
   "metadata": {},
   "outputs": [],
   "source": [
    "print(\"UtilData loaded!\")"
   ]
  }
 ],
 "metadata": {
  "kernelspec": {
   "display_name": "Python [conda env:.conda-myprojenv]",
   "language": "python",
   "name": "conda-env-.conda-myprojenv-py"
  },
  "language_info": {
   "codemirror_mode": {
    "name": "ipython",
    "version": 3
   },
   "file_extension": ".py",
   "mimetype": "text/x-python",
   "name": "python",
   "nbconvert_exporter": "python",
   "pygments_lexer": "ipython3",
   "version": "3.7.10"
  }
 },
 "nbformat": 4,
 "nbformat_minor": 4
}
