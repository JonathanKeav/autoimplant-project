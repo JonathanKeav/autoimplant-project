{
 "cells": [
  {
   "cell_type": "code",
   "execution_count": null,
   "metadata": {},
   "outputs": [],
   "source": [
    "class UtilAugmentation:\n",
    "    @staticmethod\n",
    "    @tf.function\n",
    "    def rotate(volume, label):\n",
    "        \"\"\"Rotate the volume by a few degrees\"\"\"\n",
    "\n",
    "        angles = [-20, -10, -5, 5, 10, 20]\n",
    "        # pick angles at random\n",
    "        angle = random.choice(angles)\n",
    "        \n",
    "        def scipy_rotate_volumn(volume):\n",
    "            # define some rotation angles\n",
    "            \n",
    "            # rotate volume\n",
    "            volume = ndimage.rotate(volume, angle, reshape=False)\n",
    "            volume[volume < 0] = 0\n",
    "            volume[volume > 1] = 1\n",
    "            return volume\n",
    "        \n",
    "        def scipy_rotate_label(label):\n",
    "            # define some rotation angles\n",
    "            \n",
    "            # rotate volume\n",
    "            label = ndimage.rotate(label, angle, reshape=False)\n",
    "            label[label < 0] = 0\n",
    "            label[label > 1] = 1\n",
    "            return label\n",
    "\n",
    "        augmented_volume = tf.numpy_function(scipy_rotate_volumn, [volume], tf.int32)\n",
    "        augmented_label = tf.numpy_function(scipy_rotate_label, [label], tf.int32)\n",
    "        \n",
    "        return augmented_volume, augmented_label\n",
    "\n",
    "# create rotate static method\n",
    "#UtilAugmentation.rotate = staticmethod(UtilAugmentation.rotate)"
   ]
  },
  {
   "cell_type": "code",
   "execution_count": null,
   "metadata": {},
   "outputs": [],
   "source": [
    "print(\"UtilAugmentation loaded!\")"
   ]
  }
 ],
 "metadata": {
  "kernelspec": {
   "display_name": "Python [conda env:.conda-myprojenv]",
   "language": "python",
   "name": "conda-env-.conda-myprojenv-py"
  },
  "language_info": {
   "codemirror_mode": {
    "name": "ipython",
    "version": 3
   },
   "file_extension": ".py",
   "mimetype": "text/x-python",
   "name": "python",
   "nbconvert_exporter": "python",
   "pygments_lexer": "ipython3",
   "version": "3.7.10"
  }
 },
 "nbformat": 4,
 "nbformat_minor": 4
}
