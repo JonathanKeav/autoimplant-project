{
 "cells": [
  {
   "cell_type": "code",
   "execution_count": null,
   "metadata": {},
   "outputs": [],
   "source": [
    "class UtilPreprocess:\n",
    "        \n",
    "    def read_nrrd_header(self, filepath):\n",
    "        \"\"\"Read header\"\"\"\n",
    "        hd=nrrd.read_header(filepath)\n",
    "        return hd\n",
    "\n",
    "    def read_nrrd_file(self, filepath):\n",
    "        \"\"\"Read and load volume\"\"\"\n",
    "        data,hd=nrrd.read(filepath)\n",
    "        # Get raw data\n",
    "        #scan = scan.get_fdata()\n",
    "        #data,hd=nrrd.read('C:/Users/jonathan.keaveney.ICONXSOLUTIONS/Documents/College/Modules/ED5005/Data/training_set/training_set/defective_skull/000.nrrd')\n",
    "        return data\n",
    "\n",
    "\n",
    "    def normalize(self, volume):\n",
    "        \"\"\"Normalize the volume\"\"\"\n",
    "        min = -1000\n",
    "        max = 400\n",
    "        volume[volume < min] = min\n",
    "        volume[volume > max] = max\n",
    "        volume = (volume - min) / (max - min)\n",
    "        volume = volume.astype(\"float32\")\n",
    "        return volume\n",
    "\n",
    "    def resizing(self, label):\n",
    "        a,b,c=label.shape\n",
    "        resized_data = ndimage.zoom(label,(128/a,128/b,64/c),order=2, mode='constant')  \n",
    "        return resized_data\n",
    "    \n",
    "#     def resize_volume(img):\n",
    "#         \"\"\"Resize across z-axis\"\"\"\n",
    "#         # Set the desired depth\n",
    "#         desired_depth = 64\n",
    "#         desired_width = 128\n",
    "#         desired_height = 128\n",
    "#         # Get current depth\n",
    "#         current_depth = img.shape[-1]\n",
    "#         current_width = img.shape[0]\n",
    "#         current_height = img.shape[1]\n",
    "#         # Compute depth factor\n",
    "#         depth = current_depth / desired_depth\n",
    "#         width = current_width / desired_width\n",
    "#         height = current_height / desired_height\n",
    "#         depth_factor = 1 / depth\n",
    "#         width_factor = 1 / width\n",
    "#         height_factor = 1 / height\n",
    "#         # Rotate\n",
    "#         img = ndimage.rotate(img, 90, reshape=False)\n",
    "#         # Resize across z-axis\n",
    "#         img = ndimage.zoom(img, (width_factor, height_factor, depth_factor), order=1)\n",
    "#         return img"
   ]
  },
  {
   "cell_type": "code",
   "execution_count": null,
   "metadata": {},
   "outputs": [],
   "source": [
    "print(\"UtilPreprocess loaded!\")"
   ]
  }
 ],
 "metadata": {
  "kernelspec": {
   "display_name": "Python [conda env:.conda-myprojenv]",
   "language": "python",
   "name": "conda-env-.conda-myprojenv-py"
  },
  "language_info": {
   "codemirror_mode": {
    "name": "ipython",
    "version": 3
   },
   "file_extension": ".py",
   "mimetype": "text/x-python",
   "name": "python",
   "nbconvert_exporter": "python",
   "pygments_lexer": "ipython3",
   "version": "3.7.10"
  }
 },
 "nbformat": 4,
 "nbformat_minor": 4
}
