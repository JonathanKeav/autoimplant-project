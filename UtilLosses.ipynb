{
 "cells": [
  {
   "cell_type": "code",
   "execution_count": 19,
   "metadata": {},
   "outputs": [],
   "source": [
    "class UtilLosses:\n",
    "    @staticmethod\n",
    "    def dice_coeff(y_true, y_pred):\n",
    "        y_true = tf.cast(y_true, tf.float32)\n",
    "        y_pred = tf.cast(y_pred, tf.float32)\n",
    "        #y_pred = tf.math.sigmoid(y_pred)\n",
    "        numerator = 2 * tf.reduce_sum(y_true * y_pred)\n",
    "        #print(numerator)\n",
    "        denominator = tf.reduce_sum(y_true + y_pred)\n",
    "        return numerator / denominator\n",
    "    \n",
    "    @staticmethod\n",
    "    def dice_loss(y_true, y_pred):\n",
    "        return 1 - UtilLosses.dice_coeff(y_true, y_pred)\n",
    "    \n",
    "    @staticmethod\n",
    "    def dice_coeff_int(y_true, y_pred):\n",
    "        numerator = 2 * tf.reduce_sum(y_true * y_pred)\n",
    "        denominator = tf.reduce_sum(y_true + y_pred)\n",
    "        return numerator / denominator\n",
    "    \n",
    "    @staticmethod\n",
    "    def benchmark_dice_coeff(y_true, y_pred):\n",
    "        # make sure we have 1s and 0s so that one hot will work correctly\n",
    "        y_true=np.where(y_true>0.5,1,0)\n",
    "        y_pred=np.where(y_pred>0.5,1,0)\n",
    "        y_true = tf.one_hot(y_true, 2)\n",
    "        y_pred = tf.one_hot(y_pred, 2)\n",
    "\n",
    "        # we are getting the average DSC for both classes\n",
    "        dice = 0\n",
    "        for i in range(2):\n",
    "            inse = tf.reduce_sum(y_pred[:, :, :, i]*y_true[:, :, :, i])\n",
    "            l = tf.reduce_sum(y_pred[:, :, :, i]*y_pred[:, :, :, i])\n",
    "            r = tf.reduce_sum(y_true[:, :, :, i] * y_true[:, :, :, i])\n",
    "            dice = dice + 2*inse/(l+r)\n",
    "        return dice/2\n",
    "    \n",
    "    @staticmethod\n",
    "    def  hausdorff_distance(y_true, y_pred):\n",
    "        #To provide the HD in millimeters (mm), we considered the actual image spacing of each test case, which is provided in the header of the NRRD files.\n",
    "        pass\n",
    "\n",
    "#     def dice_coef(y_true, y_pred, smooth=0):\n",
    "#         y_true = tf.cast(y_true, tf.float32)\n",
    "#         y_pred = tf.cast(y_pred, tf.float32)\n",
    "\n",
    "#         \"\"\"\n",
    "#         Dice = (2*|X & Y|)/ (|X|+ |Y|)\n",
    "#              =  2*sum(|A*B|)/(sum(A^2)+sum(B^2))\n",
    "#         ref: https://arxiv.org/pdf/1606.04797v1.pdf\n",
    "#         \"\"\"\n",
    "#         intersection = K.sum(K.abs(y_true * y_pred), axis=-1)\n",
    "#         loss = (2. * intersection + smooth) / (K.sum(K.square(y_true),-1) + K.sum(K.square(y_pred),-1) + smooth)\n",
    "#         return 1-loss\n",
    "\n",
    "#     def DiceLoss(targets, inputs, smooth=1e-6):\n",
    "#         targets = tf.cast(targets, tf.float32)\n",
    "#         inputs = tf.cast(inputs, tf.float32)\n",
    "\n",
    "#         #flatten label and prediction tensors\n",
    "#         inputs = tf.keras.backend.flatten(inputs)\n",
    "#         targets = tf.keras.backend.flatten(targets)\n",
    "#         prod = tf.keras.backend.dot(targets, inputs)\n",
    "#         intersection = tf.keras.backend.sum(prod)\n",
    "#         dice = (2*intersection + smooth) / (tf.keras.backend.sum(targets) + tf.keras.backend.sum(inputs) + smooth)\n",
    "#         return 1 - dice\n",
    "\n",
    "#     def DiceLoss(y_true, y_pred):\n",
    "#         smooth = 1e-6\n",
    "#         y_true_f = K.flatten(y_true)\n",
    "#         y_pred_f = K.flatten(y_pred)\n",
    "#         intersection = K.sum(y_true_f * y_pred_f)\n",
    "#         score = (2. * intersection + smooth) / (K.sum(y_true_f) + K.sum(y_pred_f) + smooth)\n",
    "#         return 1 - score\n",
    "\n",
    "# Test\n",
    "# y_true = np.array([[0,0,1,0],[0,0,1,0],[0,0,1.,0.]])\n",
    "# #y_true = np.array([[0,0,0,0.],[0,0,0,0],[0,0,0,0.]])\n",
    "# y_pred = np.array([[0,0,0.9,1],[0,0,0.8,0],[0,0,0.9,1.]])\n",
    "# #y_pred = np.array([[1,1,0.9,1],[1,1,1.1,1],[1,1,1.1,1.]])\n",
    "\n",
    "# r = dice_coeff(y_true,y_pred).numpy()\n",
    "# print('dice_coef_loss',r)\n",
    "# r = DiceLoss(y_true,y_pred).numpy()\n",
    "# print('dice_coef_loss',r)\n",
    "# r = dice_coef(y_true,y_pred).numpy()\n",
    "# print('dice_coef_loss',r)\n",
    "\n",
    "\n",
    "# create static methods\n",
    "# UtilLosses.dice_loss = staticmethod(UtilLosses.dice_loss)\n",
    "# UtilLosses.dice_coeff = staticmethod(UtilLosses.dice_coeff)"
   ]
  },
  {
   "cell_type": "code",
   "execution_count": 20,
   "metadata": {},
   "outputs": [
    {
     "name": "stdout",
     "output_type": "stream",
     "text": [
      "UtilLosses loaded!\n"
     ]
    }
   ],
   "source": [
    "print(\"UtilLosses loaded!\")"
   ]
  },
  {
   "cell_type": "code",
   "execution_count": 21,
   "metadata": {},
   "outputs": [],
   "source": [
    "\n",
    "UtilLosses.benchmark_dice_coeff = staticmethod(UtilLosses.benchmark_dice_coeff)"
   ]
  },
  {
   "cell_type": "code",
   "execution_count": null,
   "metadata": {},
   "outputs": [],
   "source": []
  }
 ],
 "metadata": {
  "kernelspec": {
   "display_name": "Python [conda env:.conda-myprojenv]",
   "language": "python",
   "name": "conda-env-.conda-myprojenv-py"
  },
  "language_info": {
   "codemirror_mode": {
    "name": "ipython",
    "version": 3
   },
   "file_extension": ".py",
   "mimetype": "text/x-python",
   "name": "python",
   "nbconvert_exporter": "python",
   "pygments_lexer": "ipython3",
   "version": "3.7.10"
  }
 },
 "nbformat": 4,
 "nbformat_minor": 4
}
