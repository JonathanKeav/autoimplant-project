{
 "cells": [
  {
   "cell_type": "code",
   "execution_count": null,
   "metadata": {},
   "outputs": [],
   "source": [
    "class UtilVisualise:\n",
    "    @staticmethod\n",
    "    def plot_slice(data, slice_height=30):\n",
    "        images, labels = list(data)[0]\n",
    "        images = images.numpy()\n",
    "        image = images[0]\n",
    "        print(\"Dimension of the CT scan is:\", image.shape)\n",
    "        plt.imshow(np.squeeze(image[:, :,slice_height]), cmap=\"gray\")\n",
    "\n",
    "    @staticmethod    \n",
    "    def plot_slices(num_rows, num_columns, width, height, data):\n",
    "        \"\"\"Plot a montage of 20 CT slices\"\"\"\n",
    "        data = np.rot90(np.array(data))\n",
    "        data = np.transpose(data)\n",
    "        data = np.reshape(data, (num_rows, num_columns, width, height))\n",
    "        rows_data, columns_data = data.shape[0], data.shape[1]\n",
    "        heights = [slc[0].shape[0] for slc in data]\n",
    "        widths = [slc.shape[1] for slc in data[0]]\n",
    "        fig_width = 12.0\n",
    "        fig_height = fig_width * sum(heights) / sum(widths)\n",
    "        f, axarr = plt.subplots(\n",
    "            rows_data,\n",
    "            columns_data,\n",
    "            figsize=(fig_width, fig_height),\n",
    "            gridspec_kw={\"height_ratios\": heights},\n",
    "        )\n",
    "        for i in range(rows_data):\n",
    "            for j in range(columns_data):\n",
    "                axarr[i, j].imshow(data[i][j], cmap=\"gray\")\n",
    "                axarr[i, j].axis(\"off\")\n",
    "        plt.subplots_adjust(wspace=0, hspace=0, left=0, right=1, bottom=0, top=1)\n",
    "        plt.show()\n",
    "\n",
    "        \n",
    "# create plot_slice and plot_slices static method\n",
    "# UtilVisualise.plot_slice = staticmethod(UtilVisualise.plot_slice)\n",
    "# UtilVisualise.plot_slices = staticmethod(UtilVisualise.plot_slices)"
   ]
  },
  {
   "cell_type": "code",
   "execution_count": null,
   "metadata": {},
   "outputs": [],
   "source": [
    "print(\"UtilVisualise loaded!\")"
   ]
  }
 ],
 "metadata": {
  "kernelspec": {
   "display_name": "Python [conda env:.conda-myprojenv]",
   "language": "python",
   "name": "conda-env-.conda-myprojenv-py"
  },
  "language_info": {
   "codemirror_mode": {
    "name": "ipython",
    "version": 3
   },
   "file_extension": ".py",
   "mimetype": "text/x-python",
   "name": "python",
   "nbconvert_exporter": "python",
   "pygments_lexer": "ipython3",
   "version": "3.7.10"
  }
 },
 "nbformat": 4,
 "nbformat_minor": 4
}
